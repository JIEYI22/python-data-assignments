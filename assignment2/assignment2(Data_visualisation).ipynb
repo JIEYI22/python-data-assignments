{
 "cells": [
  {
   "cell_type": "code",
   "execution_count": 50,
   "metadata": {},
   "outputs": [],
   "source": [
    "from matplotlib import pyplot as plt\n",
    "import pandas as pd\n",
    "df= pd.read_csv('assignment1.csv') #read csv"
   ]
  },
  {
   "cell_type": "markdown",
   "metadata": {},
   "source": [
    "# Dazhong Dianping (大众点评）in Macau\n",
    "I grabbed the information of 300 recommended restaurants in Macau on the website of Dazhong Dianping."
   ]
  },
  {
   "cell_type": "code",
   "execution_count": 51,
   "metadata": {},
   "outputs": [
    {
     "name": "stdout",
     "output_type": "stream",
     "text": [
      "/Users/jieyi22/anaconda3/lib/python3.7/site-packages/matplotlib/mpl-data/matplotlibrc\n"
     ]
    }
   ],
   "source": [
    "int_price=[]\n",
    "for i in df['Average Price']:\n",
    "    int_price.append(int(i))\n",
    "df['Average Price']=int_price\n",
    "int_remark=[]\n",
    "import matplotlib\n",
    "print(matplotlib.matplotlib_fname())\n",
    "\n",
    "!open /Users/jieyi22/anaconda3/lib/python3.7/site-packages/matplotlib/mpl-data/matplotlibrc"
   ]
  },
  {
   "cell_type": "code",
   "execution_count": 52,
   "metadata": {},
   "outputs": [],
   "source": [
    "import matplotlib as mpl\n",
    "mpl.get_cachedir() #dind the path of cache\n",
    "!open /Users/jieyi22/.matplotlib\n",
    "plt.rcParams['font.sans-serif']=['SimHei'] #用来正常显示中文标签\n",
    "plt.rcParams['axes.unicode_minus']=False #用来正常显示负号"
   ]
  },
  {
   "cell_type": "markdown",
   "metadata": {},
   "source": [
    "# 1. What are the most popular food Tags in Macau?\n",
    "It shows clearly from the chart that tags with 'Cantonese food','Snacks and fast food', 'Western food' rank the top three in the 300 restaurants, which means that those number of tags are related with people's eating habits in Macau."
   ]
  },
  {
   "cell_type": "code",
   "execution_count": 67,
   "metadata": {},
   "outputs": [
    {
     "data": {
      "image/png": "[encoded data removed]",
      "text/plain": [
       "<Figure size 1584x576 with 1 Axes>"
      ]
     },
     "metadata": {
      "needs_background": "light"
     },
     "output_type": "display_data"
    }
   ],
   "source": [
    "Tags_counts=df['Tags'].value_counts()[:299].sort_values(ascending=False) #sort values\n",
    "Tags = pd.DataFrame(Tags_counts)\n",
    "fig = plt.figure(figsize=(22,8)) #adjust size\n",
    "ax=plt.bar(Tags.index, Tags[\"Tags\"],color = '#f28500',edgecolor = '#f28500') #change color of the bars\n",
    "ax.set_label('Tags Count')"
   ]
  },
  {
   "cell_type": "markdown",
   "metadata": {},
   "source": [
    "# 2. Which restaurant owns the highest score of taste, envioronment and service in Macau??\n",
    "The line graph illustrates the restaurants that with the scores in service, environment, and taste higher than nine. \"巴黎轩\" has the best service, environment and taste while comparing with others and \"丽轩(丽思卡尔顿酒店店)\" rank the second. Top three restaurants have the same service score, while the less have the same taste score."
   ]
  },
  {
   "cell_type": "code",
   "execution_count": 68,
   "metadata": {},
   "outputs": [
    {
     "data": {
      "text/html": [
       "<script type=\"text/javascript\">window.PlotlyConfig = {MathJaxConfig: 'local'};</script><script type=\"text/javascript\">if (window.MathJax) {MathJax.Hub.Config({SVG: {font: \"STIX-Web\"}});}</script><script>requirejs.config({paths: { 'plotly': ['https://cdn.plot.ly/plotly-latest.min']},});if(!window._Plotly) {require(['plotly'],function(plotly) {window._Plotly=plotly;});}</script>"
      ],
      "text/vnd.plotly.v1+html": [
       "<script type=\"text/javascript\">window.PlotlyConfig = {MathJaxConfig: 'local'};</script><script type=\"text/javascript\">if (window.MathJax) {MathJax.Hub.Config({SVG: {font: \"STIX-Web\"}});}</script><script>requirejs.config({paths: { 'plotly': ['https://cdn.plot.ly/plotly-latest.min']},});if(!window._Plotly) {require(['plotly'],function(plotly) {window._Plotly=plotly;});}</script>"
      ]
     },
     "metadata": {},
     "output_type": "display_data"
    },
    {
     "data": {
      "application/vnd.plotly.v1+json": {
       "data": [
        {
         "name": "Service Score",
         "type": "scatter",
         "uid": "dc816f42-b52a-4d89-870f-033e31c0673c",
         "x": [
          "巴黎轩",
          "麗軒(丽思卡尔顿酒店店)",
          "雅吉(美狮美高梅店)",
          "Mezza9 Macau",
          "誉珑轩",
          "咖啡苑(永利皇宫店)",
          "御莲宫",
          "玥龙轩",
          "葡京日丽",
          "協成海鮮火鍋(新口岸店)",
          "金坂极上寿司(新濠天地店)",
          "香港金牌海鮮火鍋",
          "京花轩(永利酒店)",
          "協成海鮮火鍋(星際店)",
          "泓日本料理(永利皇宫店)",
          "Hide Yamamoto"
         ],
         "y": [
          9.3,
          9.3,
          9.3,
          9.2,
          9.2,
          9.2,
          9.2,
          9.2,
          9.2,
          9.1,
          9.1,
          9.1,
          9.1,
          9.1,
          9.1,
          9.1
         ]
        },
        {
         "name": "Environment Score",
         "type": "scatter",
         "uid": "87e24023-19a8-4e3b-97e5-9828cabbff34",
         "x": [
          "巴黎轩",
          "麗軒(丽思卡尔顿酒店店)",
          "雅吉(美狮美高梅店)",
          "Mezza9 Macau",
          "誉珑轩",
          "咖啡苑(永利皇宫店)",
          "御莲宫",
          "玥龙轩",
          "葡京日丽",
          "協成海鮮火鍋(新口岸店)",
          "金坂极上寿司(新濠天地店)",
          "香港金牌海鮮火鍋",
          "京花轩(永利酒店)",
          "協成海鮮火鍋(星際店)",
          "泓日本料理(永利皇宫店)",
          "Hide Yamamoto"
         ],
         "y": [
          9.4,
          9.4,
          9.3,
          9.3,
          9.3,
          9.3,
          9.2,
          9.2,
          9.2,
          9.2,
          9.1,
          9.1,
          9.1,
          9.1,
          9.1,
          9.1
         ]
        },
        {
         "name": "Taste Score",
         "type": "scatter",
         "uid": "4fd843ab-5626-4f71-acf5-9015cd3f9fb7",
         "x": [
          "巴黎轩",
          "麗軒(丽思卡尔顿酒店店)",
          "雅吉(美狮美高梅店)",
          "Mezza9 Macau",
          "誉珑轩",
          "咖啡苑(永利皇宫店)",
          "御莲宫",
          "玥龙轩",
          "葡京日丽",
          "協成海鮮火鍋(新口岸店)",
          "金坂极上寿司(新濠天地店)",
          "香港金牌海鮮火鍋",
          "京花轩(永利酒店)",
          "協成海鮮火鍋(星際店)",
          "泓日本料理(永利皇宫店)",
          "Hide Yamamoto"
         ],
         "y": [
          9.3,
          9.2,
          9.2,
          9.1,
          9.1,
          9.1,
          9.1,
          9.1,
          9.1,
          9.1,
          9.1,
          9.1,
          9.1,
          9.1,
          9.1,
          9.1
         ]
        }
       ],
       "layout": {}
      },
      "text/html": [
       "<div id=\"40b91481-c9ff-4160-a99a-2fe95ad33b4f\" style=\"height: 525px; width: 100%;\" class=\"plotly-graph-div\"></div><script type=\"text/javascript\">require([\"plotly\"], function(Plotly) { window.PLOTLYENV=window.PLOTLYENV || {};window.PLOTLYENV.BASE_URL=\"https://plot.ly\";Plotly.newPlot(\"40b91481-c9ff-4160-a99a-2fe95ad33b4f\", [{\"name\": \"Service Score\", \"x\": [\"\\u5df4\\u9ece\\u8f69\", \"\\u9e97\\u8ed2(\\u4e3d\\u601d\\u5361\\u5c14\\u987f\\u9152\\u5e97\\u5e97)\", \"\\u96c5\\u5409(\\u7f8e\\u72ee\\u7f8e\\u9ad8\\u6885\\u5e97)\", \"Mezza9 Macau\", \"\\u8a89\\u73d1\\u8f69\", \"\\u5496\\u5561\\u82d1(\\u6c38\\u5229\\u7687\\u5bab\\u5e97)\", \"\\u5fa1\\u83b2\\u5bab\", \"\\u73a5\\u9f99\\u8f69\", \"\\u8461\\u4eac\\u65e5\\u4e3d\", \"\\u5354\\u6210\\u6d77\\u9bae\\u706b\\u934b(\\u65b0\\u53e3\\u5cb8\\u5e97)\", \"\\u91d1\\u5742\\u6781\\u4e0a\\u5bff\\u53f8(\\u65b0\\u6fe0\\u5929\\u5730\\u5e97)\", \"\\u9999\\u6e2f\\u91d1\\u724c\\u6d77\\u9bae\\u706b\\u934b\", \"\\u4eac\\u82b1\\u8f69(\\u6c38\\u5229\\u9152\\u5e97)\", \"\\u5354\\u6210\\u6d77\\u9bae\\u706b\\u934b(\\u661f\\u969b\\u5e97)\", \"\\u6cd3\\u65e5\\u672c\\u6599\\u7406(\\u6c38\\u5229\\u7687\\u5bab\\u5e97)\", \"Hide Yamamoto\"], \"y\": [9.3, 9.3, 9.3, 9.2, 9.2, 9.2, 9.2, 9.2, 9.2, 9.1, 9.1, 9.1, 9.1, 9.1, 9.1, 9.1], \"type\": \"scatter\", \"uid\": \"f0b672c3-9f0f-4f73-adf5-97f5019ef389\"}, {\"name\": \"Environment Score\", \"x\": [\"\\u5df4\\u9ece\\u8f69\", \"\\u9e97\\u8ed2(\\u4e3d\\u601d\\u5361\\u5c14\\u987f\\u9152\\u5e97\\u5e97)\", \"\\u96c5\\u5409(\\u7f8e\\u72ee\\u7f8e\\u9ad8\\u6885\\u5e97)\", \"Mezza9 Macau\", \"\\u8a89\\u73d1\\u8f69\", \"\\u5496\\u5561\\u82d1(\\u6c38\\u5229\\u7687\\u5bab\\u5e97)\", \"\\u5fa1\\u83b2\\u5bab\", \"\\u73a5\\u9f99\\u8f69\", \"\\u8461\\u4eac\\u65e5\\u4e3d\", \"\\u5354\\u6210\\u6d77\\u9bae\\u706b\\u934b(\\u65b0\\u53e3\\u5cb8\\u5e97)\", \"\\u91d1\\u5742\\u6781\\u4e0a\\u5bff\\u53f8(\\u65b0\\u6fe0\\u5929\\u5730\\u5e97)\", \"\\u9999\\u6e2f\\u91d1\\u724c\\u6d77\\u9bae\\u706b\\u934b\", \"\\u4eac\\u82b1\\u8f69(\\u6c38\\u5229\\u9152\\u5e97)\", \"\\u5354\\u6210\\u6d77\\u9bae\\u706b\\u934b(\\u661f\\u969b\\u5e97)\", \"\\u6cd3\\u65e5\\u672c\\u6599\\u7406(\\u6c38\\u5229\\u7687\\u5bab\\u5e97)\", \"Hide Yamamoto\"], \"y\": [9.4, 9.4, 9.3, 9.3, 9.3, 9.3, 9.2, 9.2, 9.2, 9.2, 9.1, 9.1, 9.1, 9.1, 9.1, 9.1], \"type\": \"scatter\", \"uid\": \"1f458add-000e-4ee6-9ee2-14ad9d1bd0fc\"}, {\"name\": \"Taste Score\", \"x\": [\"\\u5df4\\u9ece\\u8f69\", \"\\u9e97\\u8ed2(\\u4e3d\\u601d\\u5361\\u5c14\\u987f\\u9152\\u5e97\\u5e97)\", \"\\u96c5\\u5409(\\u7f8e\\u72ee\\u7f8e\\u9ad8\\u6885\\u5e97)\", \"Mezza9 Macau\", \"\\u8a89\\u73d1\\u8f69\", \"\\u5496\\u5561\\u82d1(\\u6c38\\u5229\\u7687\\u5bab\\u5e97)\", \"\\u5fa1\\u83b2\\u5bab\", \"\\u73a5\\u9f99\\u8f69\", \"\\u8461\\u4eac\\u65e5\\u4e3d\", \"\\u5354\\u6210\\u6d77\\u9bae\\u706b\\u934b(\\u65b0\\u53e3\\u5cb8\\u5e97)\", \"\\u91d1\\u5742\\u6781\\u4e0a\\u5bff\\u53f8(\\u65b0\\u6fe0\\u5929\\u5730\\u5e97)\", \"\\u9999\\u6e2f\\u91d1\\u724c\\u6d77\\u9bae\\u706b\\u934b\", \"\\u4eac\\u82b1\\u8f69(\\u6c38\\u5229\\u9152\\u5e97)\", \"\\u5354\\u6210\\u6d77\\u9bae\\u706b\\u934b(\\u661f\\u969b\\u5e97)\", \"\\u6cd3\\u65e5\\u672c\\u6599\\u7406(\\u6c38\\u5229\\u7687\\u5bab\\u5e97)\", \"Hide Yamamoto\"], \"y\": [9.3, 9.2, 9.2, 9.1, 9.1, 9.1, 9.1, 9.1, 9.1, 9.1, 9.1, 9.1, 9.1, 9.1, 9.1, 9.1], \"type\": \"scatter\", \"uid\": \"a89c54ec-94a8-452d-8d1b-07e82c67abca\"}], {}, {\"showLink\": true, \"linkText\": \"Export to plot.ly\"})});</script><script type=\"text/javascript\">window.addEventListener(\"resize\", function(){window._Plotly.Plots.resize(document.getElementById(\"40b91481-c9ff-4160-a99a-2fe95ad33b4f\"));});</script>"
      ],
      "text/vnd.plotly.v1+html": [
       "<div id=\"40b91481-c9ff-4160-a99a-2fe95ad33b4f\" style=\"height: 525px; width: 100%;\" class=\"plotly-graph-div\"></div><script type=\"text/javascript\">require([\"plotly\"], function(Plotly) { window.PLOTLYENV=window.PLOTLYENV || {};window.PLOTLYENV.BASE_URL=\"https://plot.ly\";Plotly.newPlot(\"40b91481-c9ff-4160-a99a-2fe95ad33b4f\", [{\"name\": \"Service Score\", \"x\": [\"\\u5df4\\u9ece\\u8f69\", \"\\u9e97\\u8ed2(\\u4e3d\\u601d\\u5361\\u5c14\\u987f\\u9152\\u5e97\\u5e97)\", \"\\u96c5\\u5409(\\u7f8e\\u72ee\\u7f8e\\u9ad8\\u6885\\u5e97)\", \"Mezza9 Macau\", \"\\u8a89\\u73d1\\u8f69\", \"\\u5496\\u5561\\u82d1(\\u6c38\\u5229\\u7687\\u5bab\\u5e97)\", \"\\u5fa1\\u83b2\\u5bab\", \"\\u73a5\\u9f99\\u8f69\", \"\\u8461\\u4eac\\u65e5\\u4e3d\", \"\\u5354\\u6210\\u6d77\\u9bae\\u706b\\u934b(\\u65b0\\u53e3\\u5cb8\\u5e97)\", \"\\u91d1\\u5742\\u6781\\u4e0a\\u5bff\\u53f8(\\u65b0\\u6fe0\\u5929\\u5730\\u5e97)\", \"\\u9999\\u6e2f\\u91d1\\u724c\\u6d77\\u9bae\\u706b\\u934b\", \"\\u4eac\\u82b1\\u8f69(\\u6c38\\u5229\\u9152\\u5e97)\", \"\\u5354\\u6210\\u6d77\\u9bae\\u706b\\u934b(\\u661f\\u969b\\u5e97)\", \"\\u6cd3\\u65e5\\u672c\\u6599\\u7406(\\u6c38\\u5229\\u7687\\u5bab\\u5e97)\", \"Hide Yamamoto\"], \"y\": [9.3, 9.3, 9.3, 9.2, 9.2, 9.2, 9.2, 9.2, 9.2, 9.1, 9.1, 9.1, 9.1, 9.1, 9.1, 9.1], \"type\": \"scatter\", \"uid\": \"f0b672c3-9f0f-4f73-adf5-97f5019ef389\"}, {\"name\": \"Environment Score\", \"x\": [\"\\u5df4\\u9ece\\u8f69\", \"\\u9e97\\u8ed2(\\u4e3d\\u601d\\u5361\\u5c14\\u987f\\u9152\\u5e97\\u5e97)\", \"\\u96c5\\u5409(\\u7f8e\\u72ee\\u7f8e\\u9ad8\\u6885\\u5e97)\", \"Mezza9 Macau\", \"\\u8a89\\u73d1\\u8f69\", \"\\u5496\\u5561\\u82d1(\\u6c38\\u5229\\u7687\\u5bab\\u5e97)\", \"\\u5fa1\\u83b2\\u5bab\", \"\\u73a5\\u9f99\\u8f69\", \"\\u8461\\u4eac\\u65e5\\u4e3d\", \"\\u5354\\u6210\\u6d77\\u9bae\\u706b\\u934b(\\u65b0\\u53e3\\u5cb8\\u5e97)\", \"\\u91d1\\u5742\\u6781\\u4e0a\\u5bff\\u53f8(\\u65b0\\u6fe0\\u5929\\u5730\\u5e97)\", \"\\u9999\\u6e2f\\u91d1\\u724c\\u6d77\\u9bae\\u706b\\u934b\", \"\\u4eac\\u82b1\\u8f69(\\u6c38\\u5229\\u9152\\u5e97)\", \"\\u5354\\u6210\\u6d77\\u9bae\\u706b\\u934b(\\u661f\\u969b\\u5e97)\", \"\\u6cd3\\u65e5\\u672c\\u6599\\u7406(\\u6c38\\u5229\\u7687\\u5bab\\u5e97)\", \"Hide Yamamoto\"], \"y\": [9.4, 9.4, 9.3, 9.3, 9.3, 9.3, 9.2, 9.2, 9.2, 9.2, 9.1, 9.1, 9.1, 9.1, 9.1, 9.1], \"type\": \"scatter\", \"uid\": \"1f458add-000e-4ee6-9ee2-14ad9d1bd0fc\"}, {\"name\": \"Taste Score\", \"x\": [\"\\u5df4\\u9ece\\u8f69\", \"\\u9e97\\u8ed2(\\u4e3d\\u601d\\u5361\\u5c14\\u987f\\u9152\\u5e97\\u5e97)\", \"\\u96c5\\u5409(\\u7f8e\\u72ee\\u7f8e\\u9ad8\\u6885\\u5e97)\", \"Mezza9 Macau\", \"\\u8a89\\u73d1\\u8f69\", \"\\u5496\\u5561\\u82d1(\\u6c38\\u5229\\u7687\\u5bab\\u5e97)\", \"\\u5fa1\\u83b2\\u5bab\", \"\\u73a5\\u9f99\\u8f69\", \"\\u8461\\u4eac\\u65e5\\u4e3d\", \"\\u5354\\u6210\\u6d77\\u9bae\\u706b\\u934b(\\u65b0\\u53e3\\u5cb8\\u5e97)\", \"\\u91d1\\u5742\\u6781\\u4e0a\\u5bff\\u53f8(\\u65b0\\u6fe0\\u5929\\u5730\\u5e97)\", \"\\u9999\\u6e2f\\u91d1\\u724c\\u6d77\\u9bae\\u706b\\u934b\", \"\\u4eac\\u82b1\\u8f69(\\u6c38\\u5229\\u9152\\u5e97)\", \"\\u5354\\u6210\\u6d77\\u9bae\\u706b\\u934b(\\u661f\\u969b\\u5e97)\", \"\\u6cd3\\u65e5\\u672c\\u6599\\u7406(\\u6c38\\u5229\\u7687\\u5bab\\u5e97)\", \"Hide Yamamoto\"], \"y\": [9.3, 9.2, 9.2, 9.1, 9.1, 9.1, 9.1, 9.1, 9.1, 9.1, 9.1, 9.1, 9.1, 9.1, 9.1, 9.1], \"type\": \"scatter\", \"uid\": \"a89c54ec-94a8-452d-8d1b-07e82c67abca\"}], {}, {\"showLink\": true, \"linkText\": \"Export to plot.ly\"})});</script><script type=\"text/javascript\">window.addEventListener(\"resize\", function(){window._Plotly.Plots.resize(document.getElementById(\"40b91481-c9ff-4160-a99a-2fe95ad33b4f\"));});</script>"
      ]
     },
     "metadata": {},
     "output_type": "display_data"
    }
   ],
   "source": [
    "df_score=df[\n",
    "    (df['Taste'] > 9)\n",
    "     & (df['Environment'] > 9)\n",
    "     & (df['Service'] > 9)    #找到你感兴趣的\n",
    "]\n",
    "import plotly.plotly as py\n",
    "import plotly.graph_objs as go\n",
    "from plotly.offline import init_notebook_mode,iplot\n",
    "from plotly.graph_objs import Scatter\n",
    "init_notebook_mode(connected=True)  #离线显示\n",
    "\n",
    "iplot([\n",
    "    {\"x\":df_score['Shopname'],\n",
    "    \"y\":df_score['Service'].sort_values(ascending=False)\n",
    "    ,'name': 'Service Score'},\n",
    "    {\"x\":df_score['Shopname'],\n",
    "    \"y\":df_score['Environment'].sort_values(ascending=False)\n",
    "    ,'name': 'Environment Score'},\n",
    "    {\"x\":df_score['Shopname'],\n",
    "        \"y\":df_score['Taste'].sort_values(ascending=False)\n",
    "    ,'name': 'Taste Score'}\n",
    "])"
   ]
  },
  {
   "cell_type": "markdown",
   "metadata": {},
   "source": [
    "# 3.Whether remark and average price are related ?\n",
    "From the scatter plot below, I found that the remark isn't influenced by the average price. Most of the restaurants have price that range from ¥0 to ¥250 and only one restaurant has the highest remark with a low price."
   ]
  },
  {
   "cell_type": "code",
   "execution_count": 69,
   "metadata": {},
   "outputs": [
    {
     "data": {
      "image/png": "[encoded data removed]",
      "text/plain": [
       "<Figure size 432x288 with 1 Axes>"
      ]
     },
     "metadata": {
      "needs_background": "light"
     },
     "output_type": "display_data"
    }
   ],
   "source": [
    "import seaborn as sns \n",
    "df_most_remark=df.sort_values(by='Remark',ascending=False).reset_index()\n",
    "ax = sns.scatterplot(x='Remark', y='Average Price',data=df_most_remark)"
   ]
  },
  {
   "cell_type": "code",
   "execution_count": null,
   "metadata": {},
   "outputs": [],
   "source": []
  }
 ],
 "metadata": {
  "kernelspec": {
   "display_name": "Python 3",
   "language": "python",
   "name": "python3"
  },
  "language_info": {
   "codemirror_mode": {
    "name": "ipython",
    "version": 3
   },
   "file_extension": ".py",
   "mimetype": "text/x-python",
   "name": "python",
   "nbconvert_exporter": "python",
   "pygments_lexer": "ipython3",
   "version": "3.7.0"
  }
 },
 "nbformat": 4,
 "nbformat_minor": 2
}
